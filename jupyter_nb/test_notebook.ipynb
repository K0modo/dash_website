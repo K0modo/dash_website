{
 "cells": [
  {
   "cell_type": "code",
   "execution_count": 1,
   "metadata": {
    "collapsed": true,
    "pycharm": {
     "name": "#%%\n"
    }
   },
   "outputs": [],
   "source": [
    "import pandas as pd\n",
    "import plotly.express as px\n",
    "import plotly.graph_objs as go\n",
    "from IPython.core.interactiveshell import InteractiveShell\n",
    "InteractiveShell.ast_node_interactivity = \"all\"\n",
    "pd.set_option('display.max_rows', 100)\n",
    "from datetime import datetime\n",
    "# from flask import Flask\n",
    "# from flask_sqlalchemy import SQLAlchemy\n",
    "from sqlalchemy.orm import DeclarativeBase, MappedAsDataclass\n",
    "import sqlalchemy as sa\n",
    "from src.app.server import Flask, url_object, db\n",
    "from src.app.models import *\n",
    "\n",
    "\n",
    "app = Flask(__name__)\n",
    "app.config['SQLALCHEMY_DATABASE_URI'] = url_object\n",
    "db.init_app(app)"
   ]
  },
  {
   "cell_type": "markdown",
   "source": [
    "## ANALYTICS"
   ],
   "metadata": {
    "collapsed": false,
    "pycharm": {
     "name": "#%% md\n"
    }
   }
  },
  {
   "cell_type": "markdown",
   "source": [
    "Continue at Assign - Section 4 video 103\n",
    "Charge Quartile by Period"
   ],
   "metadata": {
    "collapsed": false,
    "pycharm": {
     "name": "#%% md\n"
    }
   }
  },
  {
   "cell_type": "markdown",
   "source": [
    "Stats - Charge & Paid"
   ],
   "metadata": {
    "collapsed": false,
    "pycharm": {
     "name": "#%% md\n"
    }
   }
  },
  {
   "cell_type": "code",
   "execution_count": null,
   "outputs": [],
   "source": [
    "with app.app_context():\n",
    "    stmt1 = db.select(ClaimsPaid.charge_allowed, ClaimsPaid.charge_paid_ins, ClaimsPaid.deduct_copay)\n",
    "    result = db.session.execute(stmt1).all()\n",
    "\n",
    "df = pd.DataFrame(result)\n",
    "df.describe()\n"
   ],
   "metadata": {
    "collapsed": false,
    "pycharm": {
     "name": "#%%\n"
    }
   }
  },
  {
   "cell_type": "code",
   "execution_count": null,
   "outputs": [],
   "source": [
    "with app.app_context():\n",
    "    table = db.select(PeriodMember.period, PeriodMember.mem_acct_id, PeriodMember.claims_member)\n",
    "    table = db.session.execute(table).all()\n",
    "\n",
    "member_stmt = pd.DataFrame(table)\n",
    "member_stmt\n"
   ],
   "metadata": {
    "collapsed": false,
    "pycharm": {
     "name": "#%%\n"
    }
   }
  },
  {
   "cell_type": "markdown",
   "source": [
    "CONSOLIDATEDCODES"
   ],
   "metadata": {
    "collapsed": false,
    "pycharm": {
     "name": "#%% md\n"
    }
   }
  },
  {
   "cell_type": "code",
   "execution_count": 17,
   "outputs": [
    {
     "name": "stdout",
     "output_type": "stream",
     "text": [
      "<class 'pandas.core.frame.DataFrame'>\n",
      "RangeIndex: 70166 entries, 0 to 70165\n",
      "Data columns (total 10 columns):\n",
      " #   Column             Non-Null Count  Dtype         \n",
      "---  ------             --------------  -----         \n",
      " 0   claim_trans        70166 non-null  int64         \n",
      " 1   date               70166 non-null  datetime64[ns]\n",
      " 2   period             70166 non-null  int64         \n",
      " 3   mem_acct_id        70166 non-null  int64         \n",
      " 4   injury_disease_id  70166 non-null  int64         \n",
      " 5   specialty_id       70166 non-null  int64         \n",
      " 6   facility_id        70166 non-null  int64         \n",
      " 7   charge_allowed     70166 non-null  int64         \n",
      " 8   charge_paid_ins    70166 non-null  int64         \n",
      " 9   deduct_copay       70166 non-null  int64         \n",
      "dtypes: datetime64[ns](1), int64(9)\n",
      "memory usage: 5.4 MB\n"
     ]
    }
   ],
   "source": [
    "# https://stackoverflow.com/questions/76568476/how-to-load-a-pandas-dataframe-from-orm-sqlalchemy-from-an-existing-database\n",
    "\n",
    "with app.app_context():\n",
    "    con_df = pd.read_sql_table('v_consolidated_codes', con=db.engine,)\n",
    "    per_sum = pd.read_sql_table('v_period_summary', con=db.engine)\n",
    "    specialty = pd.read_sql_table('t_specialty', con=db.engine)\n",
    "    injury = pd.read_sql_table('t_injury_disease', con=db.engine)\n",
    "    facility = pd.read_sql_table('t_facility', con=db.engine)\n",
    "\n",
    "con_df.rename(columns={'charge_trans_date': 'date'}, inplace=True)\n",
    "con_df.info()\n"
   ],
   "metadata": {
    "collapsed": false,
    "pycharm": {
     "name": "#%%\n"
    }
   }
  },
  {
   "cell_type": "code",
   "execution_count": 3,
   "outputs": [
    {
     "name": "stdout",
     "output_type": "stream",
     "text": [
      "<class 'pandas.core.frame.DataFrame'>\n",
      "RangeIndex: 12 entries, 0 to 11\n",
      "Data columns (total 10 columns):\n",
      " #   Column                          Non-Null Count  Dtype  \n",
      "---  ------                          --------------  -----  \n",
      " 0   period                          12 non-null     int64  \n",
      " 1   day_count                       12 non-null     int64  \n",
      " 2   claims_period_count             12 non-null     float64\n",
      " 3   claims_daily_avg                12 non-null     float64\n",
      " 4   claims_period_paid              12 non-null     float64\n",
      " 5   claims_paid_daily_avg           12 non-null     float64\n",
      " 6   claims_period_count_cum         12 non-null     float64\n",
      " 7   claims_period_average_cum       12 non-null     float64\n",
      " 8   claims_period_paid_cum          12 non-null     float64\n",
      " 9   claims_period_paid_average_cum  12 non-null     float64\n",
      "dtypes: float64(8), int64(2)\n",
      "memory usage: 1.1 KB\n"
     ]
    }
   ],
   "source": [
    "per_sum.info()"
   ],
   "metadata": {
    "collapsed": false,
    "pycharm": {
     "name": "#%%\n"
    }
   }
  },
  {
   "cell_type": "code",
   "execution_count": 18,
   "outputs": [
    {
     "name": "stdout",
     "output_type": "stream",
     "text": [
      "<class 'pandas.core.frame.DataFrame'>\n",
      "RangeIndex: 18 entries, 0 to 17\n",
      "Data columns (total 4 columns):\n",
      " #   Column      Non-Null Count  Dtype \n",
      "---  ------      --------------  ----- \n",
      " 0   id          18 non-null     int64 \n",
      " 1   name        18 non-null     object\n",
      " 2   category    18 non-null     object\n",
      " 3   color_code  18 non-null     object\n",
      "dtypes: int64(1), object(3)\n",
      "memory usage: 704.0+ bytes\n",
      "<class 'pandas.core.frame.DataFrame'>\n",
      "RangeIndex: 25 entries, 0 to 24\n",
      "Data columns (total 4 columns):\n",
      " #   Column      Non-Null Count  Dtype \n",
      "---  ------      --------------  ----- \n",
      " 0   id          25 non-null     int64 \n",
      " 1   name        25 non-null     object\n",
      " 2   category    25 non-null     object\n",
      " 3   color_code  25 non-null     object\n",
      "dtypes: int64(1), object(3)\n",
      "memory usage: 928.0+ bytes\n",
      "<class 'pandas.core.frame.DataFrame'>\n",
      "RangeIndex: 6 entries, 0 to 5\n",
      "Data columns (total 4 columns):\n",
      " #   Column      Non-Null Count  Dtype \n",
      "---  ------      --------------  ----- \n",
      " 0   id          6 non-null      int64 \n",
      " 1   name        6 non-null      object\n",
      " 2   category    6 non-null      object\n",
      " 3   color_code  6 non-null      object\n",
      "dtypes: int64(1), object(3)\n",
      "memory usage: 320.0+ bytes\n"
     ]
    }
   ],
   "source": [
    "injury.info()\n",
    "specialty.info()\n",
    "facility.info()\n"
   ],
   "metadata": {
    "collapsed": false,
    "pycharm": {
     "name": "#%%\n"
    }
   }
  },
  {
   "cell_type": "markdown",
   "source": [
    "COLUMNS"
   ],
   "metadata": {
    "collapsed": false,
    "pycharm": {
     "name": "#%% md\n"
    }
   }
  },
  {
   "cell_type": "code",
   "execution_count": null,
   "outputs": [],
   "source": [
    "con_df.rename(columns=lambda x: x.upper())"
   ],
   "metadata": {
    "collapsed": false,
    "pycharm": {
     "name": "#%%\n"
    }
   }
  },
  {
   "cell_type": "code",
   "execution_count": null,
   "outputs": [],
   "source": [
    "con_df.head()"
   ],
   "metadata": {
    "collapsed": false,
    "pycharm": {
     "name": "#%%\n"
    }
   }
  },
  {
   "cell_type": "code",
   "execution_count": null,
   "outputs": [],
   "source": [
    "# con_df.set_index('claim_trans')\n",
    "# con_df.reset_index(drop=True)"
   ],
   "metadata": {
    "collapsed": false,
    "pycharm": {
     "name": "#%%\n"
    }
   }
  },
  {
   "cell_type": "markdown",
   "source": [
    "ISIN"
   ],
   "metadata": {
    "collapsed": false,
    "pycharm": {
     "name": "#%% md\n"
    }
   }
  },
  {
   "cell_type": "code",
   "execution_count": null,
   "outputs": [],
   "source": [
    "# mask = (con_df.period == 12) & (con_df.deduct_copay > 10)\n",
    "# con_df[mask]\n",
    "# mask = (con_df.period.eq(12)) & (con_df.deduct_copay.gt(10))\n",
    "# con_df[mask]\n",
    "\n",
    "# con_df[con_df.period.isin([1,3,4])]\n",
    "\n",
    "# per_sum.loc[per_sum.period.isin([1,2])]\n",
    "# con_df.loc[con_df.injury_disease_id.isin([102, 104])]"
   ],
   "metadata": {
    "collapsed": false,
    "pycharm": {
     "name": "#%%\n"
    }
   }
  },
  {
   "cell_type": "markdown",
   "source": [
    "AGGREGATES"
   ],
   "metadata": {
    "collapsed": false,
    "pycharm": {
     "name": "#%% md\n"
    }
   }
  },
  {
   "cell_type": "code",
   "execution_count": null,
   "outputs": [],
   "source": [
    "charges = con_df.charge_allowed.sum()\n",
    "charge_averages = con_df.charge_allowed.mean()\n",
    "mem_count = con_df.mem_acct_id.nunique()\n",
    "mem_ave = charges / mem_count\n",
    "charges_percentile = con_df.charge_allowed.quantile([0.25, 0.5, 0.75])\n",
    "charges_percentile2 = con_df.charge_allowed.iloc[:1000].quantile([.5])\n",
    "injury_count = con_df.injury_disease_id.value_counts().sort_values()\n",
    "injury_count2 = con_df.injury_disease_id.value_counts(normalize=True)\n",
    "#\n",
    "# charges\n",
    "# charge_averages\n",
    "# mem_count\n",
    "# mem_ave\n",
    "# charges_percentile\n",
    "# charges_percentile2\n",
    "# injury_count\n",
    "# injury_count2\n"
   ],
   "metadata": {
    "collapsed": false,
    "pycharm": {
     "name": "#%%\n"
    }
   }
  },
  {
   "cell_type": "markdown",
   "source": [
    "DATAFRAMES"
   ],
   "metadata": {
    "collapsed": false,
    "pycharm": {
     "name": "#%% md\n"
    }
   }
  },
  {
   "cell_type": "code",
   "execution_count": null,
   "outputs": [],
   "source": [
    "con_df.describe().round()"
   ],
   "metadata": {
    "collapsed": false,
    "pycharm": {
     "name": "#%%\n"
    }
   }
  },
  {
   "cell_type": "code",
   "execution_count": null,
   "outputs": [],
   "source": [
    "# con_df.iloc[:4, 1:4]\n",
    "\n",
    "# con_df.loc[:2, 'mem_acct_id']\n",
    "# con_df.loc[:2, ['mem_acct_id']]\n",
    "# con_df.loc[:2, 'mem_acct_id':'facility_id']"
   ],
   "metadata": {
    "collapsed": false,
    "pycharm": {
     "name": "#%%\n"
    }
   }
  },
  {
   "cell_type": "code",
   "execution_count": null,
   "outputs": [],
   "source": [
    "new_df = con_df.loc[:50, ['period', 'charge_trans_date', 'mem_acct_id', 'charge_allowed']]\n",
    "new_df[\"overhead\"] = new_df.charge_allowed * .25\n",
    "new_df['profit'] = (new_df.charge_allowed + new_df.overhead) * .05\n",
    "new_df['revenue'] = new_df.charge_allowed + new_df.overhead + new_df.profit\n",
    "new_df.revenue.sum()"
   ],
   "metadata": {
    "collapsed": false,
    "pycharm": {
     "name": "#%%\n"
    }
   }
  },
  {
   "cell_type": "code",
   "execution_count": null,
   "outputs": [],
   "source": [
    "# new_df.loc[new_df['period'] == 2, ['mem_acct_id', 'revenue']].head()\n",
    "# mask = new_df['mem_acct_id'].isin([239176, 229442]) & (new_df.revenue > 200)\n",
    "# new_df.loc[mask, ['period', 'revenue']]\n",
    "\n",
    "# (new_df['charge_allowed'] < 100).mean()\n",
    "\n",
    "mask = (new_df['charge_allowed'] > 200) & (new_df['period'] == 1)\n",
    "new_df.loc[mask, 'revenue'].count()\n"
   ],
   "metadata": {
    "collapsed": false,
    "pycharm": {
     "name": "#%%\n"
    }
   }
  },
  {
   "cell_type": "markdown",
   "source": [
    "QUERY WITH DATES"
   ],
   "metadata": {
    "collapsed": false,
    "pycharm": {
     "name": "#%% md\n"
    }
   }
  },
  {
   "cell_type": "code",
   "execution_count": null,
   "outputs": [],
   "source": [
    "threshold = 300\n",
    "\n",
    "# new_df.query(\"period == 1 and charge_allowed > @threshold\")\n",
    "# new_df.query(\"charge_trans_date.dt.month == 10\")\n"
   ],
   "metadata": {
    "collapsed": false,
    "pycharm": {
     "name": "#%%\n"
    }
   }
  },
  {
   "cell_type": "markdown",
   "source": [
    "SORTING"
   ],
   "metadata": {
    "collapsed": false,
    "pycharm": {
     "name": "#%% md\n"
    }
   }
  },
  {
   "cell_type": "code",
   "execution_count": null,
   "outputs": [],
   "source": [
    "new_df.sort_values(['period', 'charge_allowed'], ascending=[True, False])"
   ],
   "metadata": {
    "collapsed": false,
    "pycharm": {
     "name": "#%%\n"
    }
   }
  },
  {
   "cell_type": "code",
   "execution_count": null,
   "outputs": [],
   "source": [],
   "metadata": {
    "collapsed": false,
    "pycharm": {
     "name": "#%%\n"
    }
   }
  },
  {
   "cell_type": "code",
   "execution_count": null,
   "outputs": [],
   "source": [],
   "metadata": {
    "collapsed": false,
    "pycharm": {
     "name": "#%%\n"
    }
   }
  },
  {
   "cell_type": "code",
   "execution_count": null,
   "outputs": [],
   "source": [],
   "metadata": {
    "collapsed": false,
    "pycharm": {
     "name": "#%%\n"
    }
   }
  },
  {
   "cell_type": "code",
   "execution_count": null,
   "outputs": [],
   "source": [],
   "metadata": {
    "collapsed": false,
    "pycharm": {
     "name": "#%%\n"
    }
   }
  },
  {
   "cell_type": "code",
   "execution_count": null,
   "outputs": [],
   "source": [],
   "metadata": {
    "collapsed": false,
    "pycharm": {
     "name": "#%%\n"
    }
   }
  },
  {
   "cell_type": "code",
   "execution_count": null,
   "outputs": [],
   "source": [],
   "metadata": {
    "collapsed": false,
    "pycharm": {
     "name": "#%%\n"
    }
   }
  },
  {
   "cell_type": "markdown",
   "source": [],
   "metadata": {
    "collapsed": false,
    "pycharm": {
     "name": "#%% md\n"
    }
   }
  },
  {
   "cell_type": "markdown",
   "source": [
    "JOINING - Section 10"
   ],
   "metadata": {
    "collapsed": false,
    "pycharm": {
     "name": "#%% md\n"
    }
   }
  },
  {
   "cell_type": "code",
   "execution_count": 23,
   "outputs": [
    {
     "data": {
      "text/plain": "   period       date  mem_acct_id  injury_disease_id  specialty_id  \\\n0       2 2019-11-18       239176                108           211   \n1       1 2019-10-11       363226                113           209   \n2       1 2019-10-11       363226                113           209   \n3       1 2019-10-11       363226                113           209   \n4       1 2019-10-11       363226                113           209   \n5       1 2019-10-11       363226                113           209   \n6       1 2019-10-11       363226                113           209   \n7       1 2019-10-11       363226                113           209   \n8       1 2019-10-11       363226                113           209   \n\n   facility_id  charge_allowed  \n0          302             220  \n1          302              60  \n2          302             290  \n3          302              60  \n4          302              60  \n5          302             116  \n6          302             289  \n7          302              89  \n8          302            4528  ",
      "text/html": "<div>\n<style scoped>\n    .dataframe tbody tr th:only-of-type {\n        vertical-align: middle;\n    }\n\n    .dataframe tbody tr th {\n        vertical-align: top;\n    }\n\n    .dataframe thead th {\n        text-align: right;\n    }\n</style>\n<table border=\"1\" class=\"dataframe\">\n  <thead>\n    <tr style=\"text-align: right;\">\n      <th></th>\n      <th>period</th>\n      <th>date</th>\n      <th>mem_acct_id</th>\n      <th>injury_disease_id</th>\n      <th>specialty_id</th>\n      <th>facility_id</th>\n      <th>charge_allowed</th>\n    </tr>\n  </thead>\n  <tbody>\n    <tr>\n      <th>0</th>\n      <td>2</td>\n      <td>2019-11-18</td>\n      <td>239176</td>\n      <td>108</td>\n      <td>211</td>\n      <td>302</td>\n      <td>220</td>\n    </tr>\n    <tr>\n      <th>1</th>\n      <td>1</td>\n      <td>2019-10-11</td>\n      <td>363226</td>\n      <td>113</td>\n      <td>209</td>\n      <td>302</td>\n      <td>60</td>\n    </tr>\n    <tr>\n      <th>2</th>\n      <td>1</td>\n      <td>2019-10-11</td>\n      <td>363226</td>\n      <td>113</td>\n      <td>209</td>\n      <td>302</td>\n      <td>290</td>\n    </tr>\n    <tr>\n      <th>3</th>\n      <td>1</td>\n      <td>2019-10-11</td>\n      <td>363226</td>\n      <td>113</td>\n      <td>209</td>\n      <td>302</td>\n      <td>60</td>\n    </tr>\n    <tr>\n      <th>4</th>\n      <td>1</td>\n      <td>2019-10-11</td>\n      <td>363226</td>\n      <td>113</td>\n      <td>209</td>\n      <td>302</td>\n      <td>60</td>\n    </tr>\n    <tr>\n      <th>5</th>\n      <td>1</td>\n      <td>2019-10-11</td>\n      <td>363226</td>\n      <td>113</td>\n      <td>209</td>\n      <td>302</td>\n      <td>116</td>\n    </tr>\n    <tr>\n      <th>6</th>\n      <td>1</td>\n      <td>2019-10-11</td>\n      <td>363226</td>\n      <td>113</td>\n      <td>209</td>\n      <td>302</td>\n      <td>289</td>\n    </tr>\n    <tr>\n      <th>7</th>\n      <td>1</td>\n      <td>2019-10-11</td>\n      <td>363226</td>\n      <td>113</td>\n      <td>209</td>\n      <td>302</td>\n      <td>89</td>\n    </tr>\n    <tr>\n      <th>8</th>\n      <td>1</td>\n      <td>2019-10-11</td>\n      <td>363226</td>\n      <td>113</td>\n      <td>209</td>\n      <td>302</td>\n      <td>4528</td>\n    </tr>\n  </tbody>\n</table>\n</div>"
     },
     "execution_count": 23,
     "metadata": {},
     "output_type": "execute_result"
    }
   ],
   "source": [
    "table_x = con_df.loc[:, ['period', 'date', 'mem_acct_id', 'injury_disease_id', 'specialty_id',\n",
    "                         'facility_id', 'charge_allowed']]\n",
    "table_x.loc[:8, ]"
   ],
   "metadata": {
    "collapsed": false,
    "pycharm": {
     "name": "#%%\n"
    }
   }
  },
  {
   "cell_type": "code",
   "execution_count": 21,
   "outputs": [
    {
     "data": {
      "text/plain": "     id                     name        category color_code\n0   101     Abnormal_Discoveries  injury_disease    #0000A0\n1   102             Blood_Organs  injury_disease    #368BC1\n2   103              Circulatory  injury_disease    #493D26\n3   104       Congenital_Malform  injury_disease    #4E8975\n4   105                Digestive  injury_disease    #566D7E\n5   106        Endocrine_Hormone  injury_disease    #7BCCB5\n6   107               Eye_Adnexa  injury_disease    #7D1B7E\n7   108            Genitourinary  injury_disease    #848482\n8   109      Infectious_Diseases  injury_disease    #8EEBEC\n9   110         Injury_Poisoning  injury_disease    #A0CFEC\n10  111     Mental_NeuroDisoders  injury_disease    #B93B8F\n11  112          Musculoskeletal  injury_disease    #CC6600\n12  113                Neoplasms  injury_disease    #E6A9EC\n13  114           Nervous_System  injury_disease    #EBF4FA\n14  115                    Other  injury_disease    #EDC9AF\n15  116                Pregnancy  injury_disease    #EE9A4D\n16  117              Respiratory  injury_disease    #F70D1A\n17  118              Skin_Tissue  injury_disease    #FF00FF\n18  201            Allergy_Immun       specialty    #0000A0\n19  202           Anesthesiology       specialty    #1589FF\n20  203               Cardiology       specialty    #368BC1\n21  204            Dental_Vision       specialty    #488AC7\n22  205              Dermatology       specialty    #493D26\n23  206         Gastroenterology       specialty    #4E8975\n24  207         General_Medicine       specialty    #566D7E\n25  208          General_Surgery       specialty    #616D7E\n26  209          Hospital_Clinic       specialty    #7BCCB5\n27  210         Medical_Supplies       specialty    #7D1B7E\n28  211               Nephrology       specialty    #8467D7\n29  212                Neurology       specialty    #848482\n30  213               Obstetrics       specialty    #8EEBEC\n31  214     Occupational_Therapy       specialty    #A0CFEC\n32  215                 Oncology       specialty    #B93B8F\n33  216              Orthopedics       specialty    #BCC6CC\n34  217           Otolaryngology       specialty    #CC6600\n35  218          Palliative_Care       specialty    #E38AAE\n36  219                Pathology       specialty    #E6A9EC\n37  220    Psychiatry_Counseling       specialty    #EBF4FA\n38  221              Pulmonology       specialty    #EDC9AF\n39  222                Radiology       specialty    #EE9A4D\n40  223    Skilled_Medical_Labor       specialty    #F70D1A\n41  224                  Urology       specialty    #FAEBD7\n42  225                    X-Ray       specialty    #FF00FF\n43  301       Clinic_Urgent_Care        facility    #0000A0\n44  302                 Hospital        facility    #566D7E\n45  303     Mental_Health_Center        facility    #A0CFEC\n46  304  Nursing_Assisted_Living        facility    #BCC6CC\n47  305                    Other        facility    #F70D1A\n48  306          Surgical_Center        facility    #1589FF",
      "text/html": "<div>\n<style scoped>\n    .dataframe tbody tr th:only-of-type {\n        vertical-align: middle;\n    }\n\n    .dataframe tbody tr th {\n        vertical-align: top;\n    }\n\n    .dataframe thead th {\n        text-align: right;\n    }\n</style>\n<table border=\"1\" class=\"dataframe\">\n  <thead>\n    <tr style=\"text-align: right;\">\n      <th></th>\n      <th>id</th>\n      <th>name</th>\n      <th>category</th>\n      <th>color_code</th>\n    </tr>\n  </thead>\n  <tbody>\n    <tr>\n      <th>0</th>\n      <td>101</td>\n      <td>Abnormal_Discoveries</td>\n      <td>injury_disease</td>\n      <td>#0000A0</td>\n    </tr>\n    <tr>\n      <th>1</th>\n      <td>102</td>\n      <td>Blood_Organs</td>\n      <td>injury_disease</td>\n      <td>#368BC1</td>\n    </tr>\n    <tr>\n      <th>2</th>\n      <td>103</td>\n      <td>Circulatory</td>\n      <td>injury_disease</td>\n      <td>#493D26</td>\n    </tr>\n    <tr>\n      <th>3</th>\n      <td>104</td>\n      <td>Congenital_Malform</td>\n      <td>injury_disease</td>\n      <td>#4E8975</td>\n    </tr>\n    <tr>\n      <th>4</th>\n      <td>105</td>\n      <td>Digestive</td>\n      <td>injury_disease</td>\n      <td>#566D7E</td>\n    </tr>\n    <tr>\n      <th>5</th>\n      <td>106</td>\n      <td>Endocrine_Hormone</td>\n      <td>injury_disease</td>\n      <td>#7BCCB5</td>\n    </tr>\n    <tr>\n      <th>6</th>\n      <td>107</td>\n      <td>Eye_Adnexa</td>\n      <td>injury_disease</td>\n      <td>#7D1B7E</td>\n    </tr>\n    <tr>\n      <th>7</th>\n      <td>108</td>\n      <td>Genitourinary</td>\n      <td>injury_disease</td>\n      <td>#848482</td>\n    </tr>\n    <tr>\n      <th>8</th>\n      <td>109</td>\n      <td>Infectious_Diseases</td>\n      <td>injury_disease</td>\n      <td>#8EEBEC</td>\n    </tr>\n    <tr>\n      <th>9</th>\n      <td>110</td>\n      <td>Injury_Poisoning</td>\n      <td>injury_disease</td>\n      <td>#A0CFEC</td>\n    </tr>\n    <tr>\n      <th>10</th>\n      <td>111</td>\n      <td>Mental_NeuroDisoders</td>\n      <td>injury_disease</td>\n      <td>#B93B8F</td>\n    </tr>\n    <tr>\n      <th>11</th>\n      <td>112</td>\n      <td>Musculoskeletal</td>\n      <td>injury_disease</td>\n      <td>#CC6600</td>\n    </tr>\n    <tr>\n      <th>12</th>\n      <td>113</td>\n      <td>Neoplasms</td>\n      <td>injury_disease</td>\n      <td>#E6A9EC</td>\n    </tr>\n    <tr>\n      <th>13</th>\n      <td>114</td>\n      <td>Nervous_System</td>\n      <td>injury_disease</td>\n      <td>#EBF4FA</td>\n    </tr>\n    <tr>\n      <th>14</th>\n      <td>115</td>\n      <td>Other</td>\n      <td>injury_disease</td>\n      <td>#EDC9AF</td>\n    </tr>\n    <tr>\n      <th>15</th>\n      <td>116</td>\n      <td>Pregnancy</td>\n      <td>injury_disease</td>\n      <td>#EE9A4D</td>\n    </tr>\n    <tr>\n      <th>16</th>\n      <td>117</td>\n      <td>Respiratory</td>\n      <td>injury_disease</td>\n      <td>#F70D1A</td>\n    </tr>\n    <tr>\n      <th>17</th>\n      <td>118</td>\n      <td>Skin_Tissue</td>\n      <td>injury_disease</td>\n      <td>#FF00FF</td>\n    </tr>\n    <tr>\n      <th>18</th>\n      <td>201</td>\n      <td>Allergy_Immun</td>\n      <td>specialty</td>\n      <td>#0000A0</td>\n    </tr>\n    <tr>\n      <th>19</th>\n      <td>202</td>\n      <td>Anesthesiology</td>\n      <td>specialty</td>\n      <td>#1589FF</td>\n    </tr>\n    <tr>\n      <th>20</th>\n      <td>203</td>\n      <td>Cardiology</td>\n      <td>specialty</td>\n      <td>#368BC1</td>\n    </tr>\n    <tr>\n      <th>21</th>\n      <td>204</td>\n      <td>Dental_Vision</td>\n      <td>specialty</td>\n      <td>#488AC7</td>\n    </tr>\n    <tr>\n      <th>22</th>\n      <td>205</td>\n      <td>Dermatology</td>\n      <td>specialty</td>\n      <td>#493D26</td>\n    </tr>\n    <tr>\n      <th>23</th>\n      <td>206</td>\n      <td>Gastroenterology</td>\n      <td>specialty</td>\n      <td>#4E8975</td>\n    </tr>\n    <tr>\n      <th>24</th>\n      <td>207</td>\n      <td>General_Medicine</td>\n      <td>specialty</td>\n      <td>#566D7E</td>\n    </tr>\n    <tr>\n      <th>25</th>\n      <td>208</td>\n      <td>General_Surgery</td>\n      <td>specialty</td>\n      <td>#616D7E</td>\n    </tr>\n    <tr>\n      <th>26</th>\n      <td>209</td>\n      <td>Hospital_Clinic</td>\n      <td>specialty</td>\n      <td>#7BCCB5</td>\n    </tr>\n    <tr>\n      <th>27</th>\n      <td>210</td>\n      <td>Medical_Supplies</td>\n      <td>specialty</td>\n      <td>#7D1B7E</td>\n    </tr>\n    <tr>\n      <th>28</th>\n      <td>211</td>\n      <td>Nephrology</td>\n      <td>specialty</td>\n      <td>#8467D7</td>\n    </tr>\n    <tr>\n      <th>29</th>\n      <td>212</td>\n      <td>Neurology</td>\n      <td>specialty</td>\n      <td>#848482</td>\n    </tr>\n    <tr>\n      <th>30</th>\n      <td>213</td>\n      <td>Obstetrics</td>\n      <td>specialty</td>\n      <td>#8EEBEC</td>\n    </tr>\n    <tr>\n      <th>31</th>\n      <td>214</td>\n      <td>Occupational_Therapy</td>\n      <td>specialty</td>\n      <td>#A0CFEC</td>\n    </tr>\n    <tr>\n      <th>32</th>\n      <td>215</td>\n      <td>Oncology</td>\n      <td>specialty</td>\n      <td>#B93B8F</td>\n    </tr>\n    <tr>\n      <th>33</th>\n      <td>216</td>\n      <td>Orthopedics</td>\n      <td>specialty</td>\n      <td>#BCC6CC</td>\n    </tr>\n    <tr>\n      <th>34</th>\n      <td>217</td>\n      <td>Otolaryngology</td>\n      <td>specialty</td>\n      <td>#CC6600</td>\n    </tr>\n    <tr>\n      <th>35</th>\n      <td>218</td>\n      <td>Palliative_Care</td>\n      <td>specialty</td>\n      <td>#E38AAE</td>\n    </tr>\n    <tr>\n      <th>36</th>\n      <td>219</td>\n      <td>Pathology</td>\n      <td>specialty</td>\n      <td>#E6A9EC</td>\n    </tr>\n    <tr>\n      <th>37</th>\n      <td>220</td>\n      <td>Psychiatry_Counseling</td>\n      <td>specialty</td>\n      <td>#EBF4FA</td>\n    </tr>\n    <tr>\n      <th>38</th>\n      <td>221</td>\n      <td>Pulmonology</td>\n      <td>specialty</td>\n      <td>#EDC9AF</td>\n    </tr>\n    <tr>\n      <th>39</th>\n      <td>222</td>\n      <td>Radiology</td>\n      <td>specialty</td>\n      <td>#EE9A4D</td>\n    </tr>\n    <tr>\n      <th>40</th>\n      <td>223</td>\n      <td>Skilled_Medical_Labor</td>\n      <td>specialty</td>\n      <td>#F70D1A</td>\n    </tr>\n    <tr>\n      <th>41</th>\n      <td>224</td>\n      <td>Urology</td>\n      <td>specialty</td>\n      <td>#FAEBD7</td>\n    </tr>\n    <tr>\n      <th>42</th>\n      <td>225</td>\n      <td>X-Ray</td>\n      <td>specialty</td>\n      <td>#FF00FF</td>\n    </tr>\n    <tr>\n      <th>43</th>\n      <td>301</td>\n      <td>Clinic_Urgent_Care</td>\n      <td>facility</td>\n      <td>#0000A0</td>\n    </tr>\n    <tr>\n      <th>44</th>\n      <td>302</td>\n      <td>Hospital</td>\n      <td>facility</td>\n      <td>#566D7E</td>\n    </tr>\n    <tr>\n      <th>45</th>\n      <td>303</td>\n      <td>Mental_Health_Center</td>\n      <td>facility</td>\n      <td>#A0CFEC</td>\n    </tr>\n    <tr>\n      <th>46</th>\n      <td>304</td>\n      <td>Nursing_Assisted_Living</td>\n      <td>facility</td>\n      <td>#BCC6CC</td>\n    </tr>\n    <tr>\n      <th>47</th>\n      <td>305</td>\n      <td>Other</td>\n      <td>facility</td>\n      <td>#F70D1A</td>\n    </tr>\n    <tr>\n      <th>48</th>\n      <td>306</td>\n      <td>Surgical_Center</td>\n      <td>facility</td>\n      <td>#1589FF</td>\n    </tr>\n  </tbody>\n</table>\n</div>"
     },
     "execution_count": 21,
     "metadata": {},
     "output_type": "execute_result"
    }
   ],
   "source": [
    "categories = pd.concat([injury, specialty, facility], ignore_index=True)\n",
    "categories"
   ],
   "metadata": {
    "collapsed": false,
    "pycharm": {
     "name": "#%%\n"
    }
   }
  },
  {
   "cell_type": "code",
   "execution_count": 30,
   "outputs": [
    {
     "data": {
      "text/plain": "188.0"
     },
     "execution_count": 30,
     "metadata": {},
     "output_type": "execute_result"
    },
    {
     "data": {
      "text/plain": "17448"
     },
     "execution_count": 30,
     "metadata": {},
     "output_type": "execute_result"
    },
    {
     "data": {
      "text/plain": "70166"
     },
     "execution_count": 30,
     "metadata": {},
     "output_type": "execute_result"
    },
    {
     "data": {
      "text/plain": "0.25"
     },
     "execution_count": 30,
     "metadata": {},
     "output_type": "execute_result"
    }
   ],
   "source": [
    "quant = table_x.charge_allowed.quantile(.75)\n",
    "quant\n",
    "table_x['top_charge'] = table_x['charge_allowed'] > quant\n",
    "table_x.top_charge.sum()\n",
    "table_x.top_charge.count()\n",
    "(table_x.top_charge.sum() / table_x.top_charge.count()).round(2)"
   ],
   "metadata": {
    "collapsed": false,
    "pycharm": {
     "name": "#%%\n"
    }
   }
  },
  {
   "cell_type": "code",
   "execution_count": 31,
   "outputs": [
    {
     "data": {
      "text/plain": "20986.35886673662"
     },
     "execution_count": 31,
     "metadata": {},
     "output_type": "execute_result"
    }
   ],
   "source": [
    "1000000 / 47.65"
   ],
   "metadata": {
    "collapsed": false,
    "pycharm": {
     "name": "#%%\n"
    }
   }
  },
  {
   "cell_type": "code",
   "execution_count": null,
   "outputs": [],
   "source": [],
   "metadata": {
    "collapsed": false,
    "pycharm": {
     "name": "#%%\n"
    }
   }
  },
  {
   "cell_type": "code",
   "execution_count": null,
   "outputs": [],
   "source": [],
   "metadata": {
    "collapsed": false,
    "pycharm": {
     "name": "#%%\n"
    }
   }
  },
  {
   "cell_type": "code",
   "execution_count": null,
   "outputs": [],
   "source": [],
   "metadata": {
    "collapsed": false,
    "pycharm": {
     "name": "#%%\n"
    }
   }
  },
  {
   "cell_type": "code",
   "execution_count": null,
   "outputs": [],
   "source": [],
   "metadata": {
    "collapsed": false,
    "pycharm": {
     "name": "#%%\n"
    }
   }
  },
  {
   "cell_type": "code",
   "execution_count": null,
   "outputs": [],
   "source": [],
   "metadata": {
    "collapsed": false,
    "pycharm": {
     "name": "#%%\n"
    }
   }
  },
  {
   "cell_type": "code",
   "execution_count": null,
   "outputs": [],
   "source": [],
   "metadata": {
    "collapsed": false,
    "pycharm": {
     "name": "#%%\n"
    }
   }
  },
  {
   "cell_type": "code",
   "execution_count": null,
   "outputs": [],
   "source": [],
   "metadata": {
    "collapsed": false,
    "pycharm": {
     "name": "#%%\n"
    }
   }
  },
  {
   "cell_type": "code",
   "execution_count": null,
   "outputs": [],
   "source": [],
   "metadata": {
    "collapsed": false,
    "pycharm": {
     "name": "#%%\n"
    }
   }
  },
  {
   "cell_type": "code",
   "execution_count": null,
   "outputs": [],
   "source": [],
   "metadata": {
    "collapsed": false,
    "pycharm": {
     "name": "#%%\n"
    }
   }
  },
  {
   "cell_type": "code",
   "execution_count": null,
   "outputs": [],
   "source": [],
   "metadata": {
    "collapsed": false,
    "pycharm": {
     "name": "#%%\n"
    }
   }
  },
  {
   "cell_type": "code",
   "execution_count": null,
   "outputs": [],
   "source": [],
   "metadata": {
    "collapsed": false,
    "pycharm": {
     "name": "#%%\n"
    }
   }
  },
  {
   "cell_type": "code",
   "execution_count": null,
   "outputs": [],
   "source": [],
   "metadata": {
    "collapsed": false,
    "pycharm": {
     "name": "#%%\n"
    }
   }
  },
  {
   "cell_type": "code",
   "execution_count": null,
   "outputs": [],
   "source": [],
   "metadata": {
    "collapsed": false,
    "pycharm": {
     "name": "#%%\n"
    }
   }
  },
  {
   "cell_type": "markdown",
   "source": [
    "RACING BAR"
   ],
   "metadata": {
    "collapsed": false,
    "pycharm": {
     "name": "#%% md\n"
    }
   }
  },
  {
   "cell_type": "code",
   "execution_count": null,
   "outputs": [],
   "source": [
    "with app.app_context():\n",
    "    icd_racing = db.select(InjuryDiseaseRacing.name, InjuryDiseaseRacing.period, InjuryDiseaseRacing.color_code,\n",
    "                           InjuryDiseaseRacing.claim_count_ytd)\n",
    "    icd_racing = db.session.execute(icd_racing)\n",
    "    # for r in icd_racing:\n",
    "    #     print(r)\n",
    "\n",
    "\n",
    "    icd_racing_table = pd.DataFrame(icd_racing)\n",
    "    # icd_racing_table\n"
   ],
   "metadata": {
    "collapsed": false,
    "pycharm": {
     "name": "#%%\n"
    }
   }
  },
  {
   "cell_type": "code",
   "execution_count": null,
   "outputs": [],
   "source": [
    "with app.app_context():\n",
    "    icd_racing = db.select(InjuryDiseaseRacing.name, InjuryDiseaseRacing.period, InjuryDiseaseRacing.color_code,\n",
    "                           InjuryDiseaseRacing.claim_count_ytd)\n",
    "    icd_racing = db.session.execute(icd_racing)\n",
    "    # for r in icd_racing:\n",
    "    #     print(r)\n",
    "\n",
    "icd_racing_table = pd.DataFrame(icd_racing)\n",
    "\n",
    "dict_keys = ['one', 'two', 'three', 'four', 'five', 'six', 'seven', 'eight', 'nine', 'ten', 'eleven', 'twelve']\n",
    "periods = [1,2,3,4,5,6,7,8,9,10,11,12]\n",
    "n_frame = {}\n",
    "\n",
    "for p, d in zip(periods, dict_keys):\n",
    "    dataframe = icd_racing_table[(icd_racing_table['period']==p)]\n",
    "    dataframe = dataframe.nlargest(n=5, columns=['claim_count_ytd'])\n",
    "    dataframe = dataframe.sort_values(by=['period', 'claim_count_ytd'])\n",
    "\n",
    "    n_frame[d] = dataframe\n",
    "\n",
    "fig = go.Figure(\n",
    "    data=[go.Bar(\n",
    "        x=n_frame['one']['claim_count_ytd'],\n",
    "        y=n_frame['one']['name'],\n",
    "        orientation='h',\n",
    "        text=n_frame['one']['claim_count_ytd'],\n",
    "        # texttemplate='#{text:,0f}',\n",
    "        textfont={'size':18},\n",
    "        textposition='inside',\n",
    "        insidetextanchor='middle',\n",
    "        width=0.9,\n",
    "        marker={'color': n_frame['one']['color_code']}\n",
    "    )],\n",
    "    layout = go.Layout(\n",
    "        xaxis=dict(range=[0,8600], autorange=False, title=dict(text='claim_count', font=dict(size=18))),\n",
    "        yaxis=dict(range=[-0.5, 5.5], autorange=False, tickfont=dict(size=14)),\n",
    "        title=dict(text='Claims per Injury_Disease Category', font=dict(size=28), x=0.5, xanchor='center'),\n",
    "        # Button\n",
    "        updatemenus=[dict(\n",
    "            type='buttons',\n",
    "            buttons=[dict(label='Play',\n",
    "                          method='animate',\n",
    "                          args=[None,\n",
    "                                {'frame': {'duration': 1000, 'redraw': True},\n",
    "                                 \"transition\": {'duration': 250, 'easing': \"linear\"}}]\n",
    "            )]\n",
    "        )]\n",
    "    ),\n",
    "    frames=[\n",
    "        go.Frame(\n",
    "            data=[\n",
    "                go.Bar(x=value['claim_count_ytd'], y=value['name'],\n",
    "                       orientation='h',\n",
    "                       text=value['claim_count_ytd'],\n",
    "                       marker={'color':value['color_code']})\n",
    "            ],\n",
    "            layout=go.Layout(\n",
    "                xaxis=dict(range=[0,8600], autorange=False),\n",
    "                yaxis=dict(range=[-0.5, 5.5], autorange=False, tickfont=dict(size=14)),\n",
    "                title=dict(text='Claims per Injury_Disease Category: '+str(value['period'].values[0]),\n",
    "                           font=dict(size=28))\n",
    "            )\n",
    "        )\n",
    "        for key, value in n_frame.items()\n",
    "    ]\n",
    ")\n",
    "# import plotly.io as pio\n",
    "fig\n",
    "# print(n_frame)\n"
   ],
   "metadata": {
    "collapsed": false,
    "pycharm": {
     "name": "#%%\n"
    }
   }
  },
  {
   "cell_type": "markdown",
   "source": [],
   "metadata": {
    "collapsed": false,
    "pycharm": {
     "name": "#%% md\n"
    }
   }
  },
  {
   "cell_type": "markdown",
   "source": [
    "CASHFLOW"
   ],
   "metadata": {
    "collapsed": false,
    "pycharm": {
     "name": "#%% md\n"
    }
   }
  },
  {
   "cell_type": "markdown",
   "source": [
    "CASHFLOW CHART 1 - Daily Cash Paid"
   ],
   "metadata": {
    "collapsed": false,
    "pycharm": {
     "name": "#%% md\n"
    }
   }
  },
  {
   "cell_type": "code",
   "execution_count": null,
   "outputs": [],
   "source": [
    "with app.app_context():\n",
    "    period_chosen = 2\n",
    "\n",
    "    cash_paid = db.session.execute(db.select(DailyClaims.charge_trans_date, DailyClaims.charges_paid)\n",
    "                                   .where(DailyClaims.period == period_chosen))\n",
    "\n",
    "    cash_paid_df = pd.DataFrame(cash_paid)\n",
    "    # cash_paid_df\n",
    "    px.bar(cash_paid_df, x='charge_trans_date', y='charges_paid')\n",
    "\n"
   ],
   "metadata": {
    "collapsed": false,
    "pycharm": {
     "name": "#%%\n"
    }
   }
  },
  {
   "cell_type": "code",
   "execution_count": null,
   "outputs": [],
   "source": [
    "with app.app_context():\n",
    "\n",
    "    cash_paid_period = db.session.execute(db.select(PeriodSummary.period, PeriodSummary.claims_period_paid))\n",
    "    cash_paid_period_df = pd.DataFrame(cash_paid_period)\n",
    "    # cash_paid_period_df['claims_period_paid'] = cash_paid_period_df['claims_period_paid'].astype(float)\n",
    "    # cash_paid_period_df.info()\n",
    "    # cash_paid_period_df\n",
    "    cash_paid_period_fig = px.bar(cash_paid_period_df, x='period', y='claims_period_paid')\n",
    "    # cash_paid_period_fig\n"
   ],
   "metadata": {
    "collapsed": false,
    "pycharm": {
     "name": "#%%\n"
    }
   }
  },
  {
   "cell_type": "markdown",
   "source": [
    "## MEMBER PARTICIPATION"
   ],
   "metadata": {
    "collapsed": false,
    "pycharm": {
     "name": "#%% md\n"
    }
   }
  },
  {
   "cell_type": "code",
   "execution_count": null,
   "outputs": [],
   "source": [
    "with app.app_context():\n",
    "    member_participation = db.session.execute(db.select(DailyMember.charge_trans_date, DailyMember.member_count)\n",
    "                                              .where(DailyMember.period == period_chosen))\n",
    "\n",
    "    member_participation_chart = pd.DataFrame(member_participation)\n",
    "    # member_participation_chart\n",
    "\n",
    "\n"
   ],
   "metadata": {
    "collapsed": false,
    "pycharm": {
     "name": "#%%\n"
    }
   }
  },
  {
   "cell_type": "code",
   "execution_count": null,
   "outputs": [],
   "source": [
    "with app.app_context():\n",
    "\n",
    "    daily_member = db.session.execute(db.select(DailyMember.charge_trans_date, DailyMember.member_count)\n",
    "                                              .where(DailyMember.period == period_chosen))\n",
    "    daily_member_df = pd.DataFrame(daily_member)\n",
    "    daily_member_chart = px.bar(daily_member_df, x='charge_trans_date', y='member_count')\n",
    "    # daily_member_chart"
   ],
   "metadata": {
    "collapsed": false,
    "pycharm": {
     "name": "#%%\n"
    }
   }
  },
  {
   "cell_type": "code",
   "execution_count": null,
   "outputs": [],
   "source": [
    "with app.app_context():\n",
    "    claims_test = db.session.execute(db.select(sa.func.count(Claims.mem_acct_id.distinct()))).scalar()\n",
    "    # daily_member_average = db.session.execute(db.select(sa.func.count(Claims.mem_acct_id.distinct))).scalar()\n",
    "    print(claims_test)\n",
    "    # for r in claims_test:\n",
    "    #     print(r)\n",
    "\n"
   ],
   "metadata": {
    "collapsed": false,
    "pycharm": {
     "name": "#%%\n"
    }
   }
  },
  {
   "cell_type": "code",
   "execution_count": null,
   "outputs": [],
   "source": [],
   "metadata": {
    "collapsed": false,
    "pycharm": {
     "name": "#%%\n"
    }
   }
  },
  {
   "cell_type": "markdown",
   "source": [
    "## CREATING DATA CLASS"
   ],
   "metadata": {
    "collapsed": false,
    "pycharm": {
     "name": "#%% md\n"
    }
   }
  },
  {
   "cell_type": "code",
   "execution_count": null,
   "outputs": [],
   "source": [
    "import pandas as pd\n",
    "file_df= r'C:\\Users\\jchri\\PycharmProjects\\dash_website\\src\\app\\data\\corp_services_tables_consolidated.csv'\n",
    "df = pd.read_csv(file_df)\n",
    "df\n"
   ],
   "metadata": {
    "collapsed": false,
    "pycharm": {
     "name": "#%%\n"
    }
   }
  },
  {
   "cell_type": "code",
   "execution_count": null,
   "outputs": [],
   "source": [
    "# def get_icd_table(df):\n",
    "#     icd_table = df[df['id'].between(100, 200)].loc[:, 'name']\n",
    "#     return icd_table\n"
   ],
   "metadata": {
    "collapsed": false,
    "pycharm": {
     "name": "#%%\n"
    }
   }
  },
  {
   "cell_type": "code",
   "execution_count": null,
   "outputs": [],
   "source": [
    "# get_icd_table(df)"
   ],
   "metadata": {
    "collapsed": false,
    "pycharm": {
     "name": "#%%\n"
    }
   }
  },
  {
   "cell_type": "code",
   "execution_count": null,
   "outputs": [],
   "source": [
    "\n",
    "file_df= r'C:\\Users\\jchri\\PycharmProjects\\dash_website\\src\\app\\data\\corp_services_tables_consolidated.csv'\n",
    "df1 = pd.read_csv(file_df)\n",
    "df1.info()\n"
   ],
   "metadata": {
    "collapsed": false,
    "pycharm": {
     "name": "#%%\n"
    }
   }
  },
  {
   "cell_type": "code",
   "execution_count": null,
   "outputs": [],
   "source": [
    "\n",
    "class CorporateTables:\n",
    "    def __init__(self, dataframe):\n",
    "        self.corp_table = dataframe\n",
    "\n",
    "    def get_icd_table(self):\n",
    "        table = self.corp_table[self.corp_table['id'].between(100, 200)].loc[:,'name']\n",
    "        return table\n"
   ],
   "metadata": {
    "collapsed": false,
    "pycharm": {
     "name": "#%%\n"
    }
   }
  },
  {
   "cell_type": "code",
   "execution_count": null,
   "outputs": [],
   "source": [
    "services_table = CorporateTables(df1)\n",
    "icd_table = services_table.get_icd_table()\n",
    "icd_table\n"
   ],
   "metadata": {
    "collapsed": false,
    "pycharm": {
     "name": "#%%\n"
    }
   }
  },
  {
   "cell_type": "code",
   "execution_count": null,
   "outputs": [],
   "source": [
    "# injury_disease\n",
    "# specialty\n",
    "# facility"
   ],
   "metadata": {
    "collapsed": false,
    "pycharm": {
     "name": "#%%\n"
    }
   }
  },
  {
   "cell_type": "markdown",
   "source": [
    "# CORPORATE SERVICES SECTION"
   ],
   "metadata": {
    "collapsed": false,
    "pycharm": {
     "name": "#%% md\n"
    }
   }
  },
  {
   "cell_type": "markdown",
   "source": [
    "INJURY DISEASE"
   ],
   "metadata": {
    "collapsed": false,
    "pycharm": {
     "name": "#%% md\n"
    }
   }
  },
  {
   "cell_type": "code",
   "execution_count": null,
   "outputs": [],
   "source": [
    "with app.app_context():\n",
    "    stmt = db.select(InjuryDiseaseSummary.name, InjuryDiseaseSummary.claim_count).order_by(InjuryDiseaseSummary.claim_count)\n",
    "    result = db.session.execute(stmt)\n",
    "    # for r in result:\n",
    "    #     print(r)\n",
    "    icd_count = pd.DataFrame(result)\n",
    "    # icd_count"
   ],
   "metadata": {
    "collapsed": false,
    "pycharm": {
     "name": "#%%\n"
    }
   }
  },
  {
   "cell_type": "markdown",
   "source": [
    "INJURY_DISEASE TABLE"
   ],
   "metadata": {
    "collapsed": false,
    "pycharm": {
     "name": "#%% md\n"
    }
   }
  },
  {
   "cell_type": "code",
   "execution_count": null,
   "outputs": [],
   "source": [
    "\n",
    "\n",
    "with app.app_context():\n",
    "    icd_count = (db.session.execute(db.select(InjuryDiseaseSummary.name, InjuryDiseaseSummary.claim_count,\n",
    "                                              InjuryDiseaseSummary.claim_paid,\n",
    "                                              InjuryDiseaseSummary.color_code)\n",
    "                                    .order_by(InjuryDiseaseSummary.claim_count))\n",
    "                 )\n",
    "\n",
    "    table = pd.DataFrame(icd_count)\n",
    "    table = table.nlargest(10,'claim_count')\n",
    "    # icd_count_chart\n",
    "\n",
    "    fig = go.Figure()\n",
    "    fig.add_trace(\n",
    "        go.Bar(\n",
    "            x=table['name'],\n",
    "            y=table['claim_count'],\n",
    "            marker_color=table['color_code']\n",
    "        )\n",
    "    )\n",
    "\n",
    "    table2 = table.sort_values('claim_paid')\n",
    "    # table2\n",
    "\n",
    "\n",
    "    fig2 = go.Figure()\n",
    "    fig2.add_trace(\n",
    "        go.Bar(\n",
    "            x=table2['name'],\n",
    "            y=table2['claim_paid'],\n",
    "            marker_color=table2['color_code']\n",
    "        )\n",
    "    )"
   ],
   "metadata": {
    "collapsed": false,
    "pycharm": {
     "name": "#%%\n"
    }
   }
  },
  {
   "cell_type": "markdown",
   "source": [
    "SPECIALTY TABLE"
   ],
   "metadata": {
    "collapsed": false,
    "pycharm": {
     "name": "#%% md\n"
    }
   }
  },
  {
   "cell_type": "code",
   "execution_count": null,
   "outputs": [],
   "source": [
    "with app.app_context():\n",
    "    specialty_table = (db.session.execute(db.select(SpecialtySummary.name, SpecialtySummary.claim_count,\n",
    "                                              SpecialtySummary.claim_paid,\n",
    "                                              SpecialtySummary.color_code)\n",
    "                                    .order_by(SpecialtySummary.claim_count))\n",
    "                 )\n",
    "\n",
    "    table = pd.DataFrame(specialty_table)\n",
    "    table = table.nlargest(10,'claim_count')\n",
    "    # table\n",
    "\n",
    "    fig = go.Figure()\n",
    "    fig.add_trace(\n",
    "        go.Bar(\n",
    "            x=table['name'],\n",
    "            y=table['claim_count'],\n",
    "            marker_color=table['color_code']\n",
    "        )\n",
    "    )\n",
    "\n",
    "    # table2 = table.sort_values('claim_paid')\n",
    "    # # table2\n",
    "    #\n",
    "    #\n",
    "    # fig2 = go.Figure()\n",
    "    # fig2.add_trace(\n",
    "    #     go.Bar(\n",
    "    #         x=table2['name'],\n",
    "    #         y=table2['claim_paid'],\n",
    "    #         marker_color=table2['color_code']\n",
    "    #     )\n",
    "    # )"
   ],
   "metadata": {
    "collapsed": false,
    "pycharm": {
     "name": "#%%\n"
    }
   }
  },
  {
   "cell_type": "code",
   "execution_count": null,
   "outputs": [],
   "source": [],
   "metadata": {
    "collapsed": false,
    "pycharm": {
     "name": "#%%\n"
    }
   }
  },
  {
   "cell_type": "code",
   "execution_count": null,
   "outputs": [],
   "source": [],
   "metadata": {
    "collapsed": false,
    "pycharm": {
     "name": "#%%\n"
    }
   }
  },
  {
   "cell_type": "code",
   "execution_count": null,
   "outputs": [],
   "source": [],
   "metadata": {
    "collapsed": false,
    "pycharm": {
     "name": "#%%\n"
    }
   }
  }
 ],
 "metadata": {
  "kernelspec": {
   "display_name": "Python 3",
   "language": "python",
   "name": "python3"
  },
  "language_info": {
   "codemirror_mode": {
    "name": "ipython",
    "version": 2
   },
   "file_extension": ".py",
   "mimetype": "text/x-python",
   "name": "python",
   "nbconvert_exporter": "python",
   "pygments_lexer": "ipython2",
   "version": "2.7.6"
  }
 },
 "nbformat": 4,
 "nbformat_minor": 0
}